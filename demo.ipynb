{
 "cells": [
  {
   "cell_type": "code",
   "execution_count": 1,
   "metadata": {
    "collapsed": true
   },
   "outputs": [],
   "source": [
    "import os, sys, shutil\n",
    "\n",
    "import numpy as np\n",
    "import matplotlib.pyplot as plt\n",
    "%matplotlib inline\n",
    "\n",
    "from utils import vasp, slurm, structure, experiment"
   ]
  },
  {
   "cell_type": "code",
   "execution_count": 2,
   "metadata": {},
   "outputs": [
    {
     "data": {
      "text/plain": [
       "'/Users/shell/Documents/Projects/ac275_final'"
      ]
     },
     "execution_count": 2,
     "metadata": {},
     "output_type": "execute_result"
    }
   ],
   "source": [
    "WORKDIR = os.getcwd()\n",
    "\n",
    "PATHDICT = {\n",
    "    'UTILS': os.path.join(WORKDIR, 'utils'),\n",
    "    'SAMPLE': os.path.join(WORKDIR, 'sample'),\n",
    "    'SMP_TEMPLATE': os.path.join(WORKDIR, 'sample/in/template'),\n",
    "    'SMP_INSTANCE': os.path.join(WORKDIR, 'sample/in/instance'),\n",
    "    'SMP_OUTPUT': os.path.join(WORKDIR, 'sample/out'), \n",
    "}\n",
    "\n",
    "for path in PATHDICT.values():\n",
    "    assert(os.path.isdir(path))\n",
    "    \n",
    "WORKDIR"
   ]
  },
  {
   "cell_type": "markdown",
   "metadata": {},
   "source": [
    "### Create a parameter scan"
   ]
  },
  {
   "cell_type": "code",
   "execution_count": 3,
   "metadata": {},
   "outputs": [
    {
     "name": "stdout",
     "output_type": "stream",
     "text": [
      "INCAR    KPOINTS  POSCAR   POTCAR   batch.sh\r\n"
     ]
    }
   ],
   "source": [
    "!ls ./sample/in/template/std"
   ]
  },
  {
   "cell_type": "markdown",
   "metadata": {},
   "source": [
    "The following script takes these files as templates and modifies their contents to create a parameter scan."
   ]
  },
  {
   "cell_type": "code",
   "execution_count": 4,
   "metadata": {},
   "outputs": [],
   "source": [
    "# create a scan on cut-off energy from 250eV to 450eV\n",
    "ecut_scan = experiment.EcutScanFromTemplate(\n",
    "    src_dir=os.path.join(PATHDICT['SMP_TEMPLATE'], 'std'))\n",
    "ecut_scan.make(\n",
    "    out_dir=os.path.join(PATHDICT['SMP_OUTPUT'], 'ecut_scan'),\n",
    "    param_list=[250, 300, 350, 400, 450],\n",
    "    header='monolayer_CrI3', \n",
    "    overwrite=True)"
   ]
  },
  {
   "cell_type": "markdown",
   "metadata": {},
   "source": [
    "You may go to `./sample/out` directory and see the results. The output directory has been organized as:"
   ]
  },
  {
   "cell_type": "code",
   "execution_count": 5,
   "metadata": {},
   "outputs": [
    {
     "name": "stdout",
     "output_type": "stream",
     "text": [
      "\u001b[1m\u001b[36mmonolayer_CrI3_ecut=250\u001b[m\u001b[m \u001b[1m\u001b[36mmonolayer_CrI3_ecut=350\u001b[m\u001b[m \u001b[1m\u001b[36mmonolayer_CrI3_ecut=450\u001b[m\u001b[m\r\n",
      "\u001b[1m\u001b[36mmonolayer_CrI3_ecut=300\u001b[m\u001b[m \u001b[1m\u001b[36mmonolayer_CrI3_ecut=400\u001b[m\u001b[m\r\n"
     ]
    }
   ],
   "source": [
    "!ls ./sample/out/ecut_scan"
   ]
  },
  {
   "cell_type": "markdown",
   "metadata": {},
   "source": [
    "The namings are affected by the `header` parameter."
   ]
  },
  {
   "cell_type": "code",
   "execution_count": 6,
   "metadata": {},
   "outputs": [
    {
     "name": "stdout",
     "output_type": "stream",
     "text": [
      "INCAR    KPOINTS  POSCAR   POTCAR   batch.sh\r\n"
     ]
    }
   ],
   "source": [
    "!ls ./sample/out/ecut_scan/monolayer_CrI3_ecut=250"
   ]
  },
  {
   "cell_type": "markdown",
   "metadata": {},
   "source": [
    "You may go to check if the `ENCUT` parameter in `INCAR` files has been altered. In addition, the `--job-name` in the Slurm script `batch.sh` is automatically aligned with the folder name, which helps you keep track of your calculations during runtime on Slurm without confusion."
   ]
  },
  {
   "cell_type": "markdown",
   "metadata": {},
   "source": [
    "You can scan `KPOINTS`, `SAXIS` in the same way. Lattice scans are slightly different - you need to first specify a structure generator, which takes the lattice constant as input and returns a structure resembling the ones defined in `structure.py`"
   ]
  },
  {
   "cell_type": "code",
   "execution_count": 7,
   "metadata": {},
   "outputs": [],
   "source": [
    "# create a lattice scan on `a` from 6.8A to 7.2A\n",
    "lattice_scan = experiment.StrucScanFromTemplate(\n",
    "    src_dir=os.path.join(PATHDICT['SMP_TEMPLATE'], 'std'),\n",
    "    struc_gen=lambda a: structure.MonoLayerCrI3(a, vac=20.0))\n",
    "lattice_scan.make(\n",
    "    out_dir=os.path.join(PATHDICT['SMP_OUTPUT'], 'lattice_scan'),\n",
    "    param_list=np.arange(6.8, 7.3, 0.1), \n",
    "    header='monolayer_CrI3', \n",
    "    overwrite=True)"
   ]
  },
  {
   "cell_type": "markdown",
   "metadata": {},
   "source": [
    "The above script can be easily modified to scan on the vacuum thickness, in which case the structure generator could be written as \"`lambda v: structure.MonoLayerCrI3(a=7.0, vac=v)`\"\n",
    "\n",
    "Note that for demonstration convenience we have set `overwrite=True`, which tells the function to first erase the potentially existing output directory. However, users are recommended to set `overwrite=False`, which is also the default, to prevent data loss. If the purpose is to update calculation settings, add `merge=True`."
   ]
  },
  {
   "cell_type": "markdown",
   "metadata": {},
   "source": [
    "### Continue calculation"
   ]
  },
  {
   "cell_type": "code",
   "execution_count": 8,
   "metadata": {},
   "outputs": [
    {
     "name": "stdout",
     "output_type": "stream",
     "text": [
      "CHG      DOSCAR   INCAR    OUTCAR   POTCAR   WAVECAR\r\n",
      "CHGCAR   EIGENVAL KPOINTS  PCDAT    PROCAR   XDATCAR\r\n",
      "CONTCAR  IBZKPT   OSZICAR  POSCAR   REPORT   batch.sh\r\n"
     ]
    }
   ],
   "source": [
    "experiment.ToolKit.make_out_dir(\n",
    "    os.path.join(PATHDICT['SMP_OUTPUT'], 'single_continue'), \n",
    "    overwrite=True)\n",
    "experiment.ToolKit.copy_all(\n",
    "    os.path.join(PATHDICT['SMP_INSTANCE'], 'single'),\n",
    "    os.path.join(PATHDICT['SMP_OUTPUT'], 'single_continue'))\n",
    "\n",
    "!ls ./sample/out/single_continue"
   ]
  },
  {
   "cell_type": "markdown",
   "metadata": {},
   "source": [
    "Suppose the above directory contains a VASP calculation that has been interrupted in the middle. To continue with, one should at least copy the `CONTCAR` content to the `POSCAR`. The following script is mainly aimed at doing the same thing."
   ]
  },
  {
   "cell_type": "code",
   "execution_count": 9,
   "metadata": {},
   "outputs": [
    {
     "name": "stdout",
     "output_type": "stream",
     "text": [
      "CHG        DOSCAR     INCAR      OUTCAR     POSCAR_old REPORT     batch.sh\r\n",
      "CHGCAR     EIGENVAL   KPOINTS    PCDAT      POTCAR     WAVECAR\r\n",
      "CONTCAR    IBZKPT     OSZICAR    POSCAR     PROCAR     XDATCAR\r\n"
     ]
    }
   ],
   "source": [
    "experiment.ToolKit.continue_relaxation(\n",
    "    os.path.join(PATHDICT['SMP_OUTPUT'], 'single_continue'),\n",
    "    batch_update={'-n': 16, '-t': '0-00:15'},\n",
    "    push_conv=True)\n",
    "\n",
    "!ls ./sample/out/single_continue"
   ]
  },
  {
   "cell_type": "markdown",
   "metadata": {},
   "source": [
    "The `CONTCAR` is copied to `POSCAR`. The original `CONTCAR` stays untouched. The original `POSCAR` is renamed as `POSCAR_old`. \n",
    "\n",
    "The `batch_update` contains the update to the `batch.sh`. The original configuration is 30 minutes on 32 CPU cores. We reduced the numbers to half as we expect that this continue of calculation will take shorter time. The `push_conv=True` is better used when you are very close to the minimum in an ionic relaxation. It switches the relaxation method to `RMM-DIIS`.\n",
    "\n",
    "Note that this continuation happens in-place. In real practice you don't need to copy the files out as we did at the beginning of this section - we just want to keep the `./sample/in` directory untouched."
   ]
  },
  {
   "cell_type": "markdown",
   "metadata": {},
   "source": [
    "### Develop new calculations based on an old one"
   ]
  },
  {
   "cell_type": "code",
   "execution_count": 10,
   "metadata": {},
   "outputs": [
    {
     "name": "stdout",
     "output_type": "stream",
     "text": [
      "CHG      DOSCAR   INCAR    OUTCAR   POTCAR   WAVECAR\r\n",
      "CHGCAR   EIGENVAL KPOINTS  PCDAT    PROCAR   XDATCAR\r\n",
      "CONTCAR  IBZKPT   OSZICAR  POSCAR   REPORT   batch.sh\r\n"
     ]
    }
   ],
   "source": [
    "!ls ./sample/in/instance/single"
   ]
  },
  {
   "cell_type": "markdown",
   "metadata": {},
   "source": [
    "Suppose the above directory contains the result of a collinear VASP calculation. You have the `CHGCAR` and wants to move on to a non-collinear one to scan the spin orientation. The `batch.sh` and `INCAR` need to be changed considerably. The best practice might be preparing a new set of templates and use them to replace the old ones. The following script does the replacement and the scan preparation for you."
   ]
  },
  {
   "cell_type": "code",
   "execution_count": 11,
   "metadata": {
    "collapsed": true
   },
   "outputs": [],
   "source": [
    "add_ncl = experiment.SaxisScanFromSTD(\n",
    "    src_dir=os.path.join(PATHDICT['SMP_INSTANCE'], 'single'),\n",
    "    new_dir=os.path.join(PATHDICT['SMP_TEMPLATE'], 'ncl'))\n",
    "add_ncl.make(\n",
    "    out_dir=os.path.join(PATHDICT['SMP_OUTPUT'], 'single_ncl'),\n",
    "    param_list=[(0,0,1), (1,0,0)],\n",
    "    header='single',\n",
    "    overwrite=True)"
   ]
  },
  {
   "cell_type": "code",
   "execution_count": 12,
   "metadata": {},
   "outputs": [
    {
     "name": "stdout",
     "output_type": "stream",
     "text": [
      "\u001b[1m\u001b[36msingle_saxis=[0_0_1]\u001b[m\u001b[m \u001b[1m\u001b[36msingle_saxis=[1_0_0]\u001b[m\u001b[m\r\n"
     ]
    }
   ],
   "source": [
    "!ls ./sample/out/single_ncl"
   ]
  },
  {
   "cell_type": "code",
   "execution_count": 13,
   "metadata": {},
   "outputs": [
    {
     "name": "stdout",
     "output_type": "stream",
     "text": [
      "CHG        DOSCAR     INCAR      OUTCAR     POSCAR_old REPORT     batch.sh\r\n",
      "CHGCAR     EIGENVAL   KPOINTS    PCDAT      POTCAR     WAVECAR\r\n",
      "CONTCAR    IBZKPT     OSZICAR    POSCAR     PROCAR     XDATCAR\r\n"
     ]
    }
   ],
   "source": [
    "!ls ./sample/out/single_ncl/single_saxis=[0_0_1]"
   ]
  },
  {
   "cell_type": "markdown",
   "metadata": {},
   "source": [
    "You may go to check whether the `batch.sh` and the `INCAR` have been replaced. Note that this script also automatically did the `CONTCAR`-`POSCAR` trick to make sure you use the latest atom positions."
   ]
  },
  {
   "cell_type": "markdown",
   "metadata": {},
   "source": [
    "### Expand the dimensions of a whole set of old scans"
   ]
  },
  {
   "cell_type": "code",
   "execution_count": 14,
   "metadata": {},
   "outputs": [
    {
     "name": "stdout",
     "output_type": "stream",
     "text": [
      "\u001b[1m\u001b[36mmonolayer_CrI3_ecut=250\u001b[m\u001b[m \u001b[1m\u001b[36mmonolayer_CrI3_ecut=350\u001b[m\u001b[m submit_exhaustive.py\r\n",
      "\u001b[1m\u001b[36mmonolayer_CrI3_ecut=300\u001b[m\u001b[m \u001b[1m\u001b[36mmonolayer_CrI3_ecut=400\u001b[m\u001b[m\r\n"
     ]
    }
   ],
   "source": [
    "!ls ./sample/in/instance/set"
   ]
  },
  {
   "cell_type": "code",
   "execution_count": 15,
   "metadata": {},
   "outputs": [
    {
     "name": "stdout",
     "output_type": "stream",
     "text": [
      "CHG      DOSCAR   INCAR    OUTCAR   POTCAR   WAVECAR\r\n",
      "CHGCAR   EIGENVAL KPOINTS  PCDAT    PROCAR   XDATCAR\r\n",
      "CONTCAR  IBZKPT   OSZICAR  POSCAR   REPORT   batch.sh\r\n"
     ]
    }
   ],
   "source": [
    "!ls ./sample/in/instance/set/monolayer_CrI3_ecut=250"
   ]
  },
  {
   "cell_type": "markdown",
   "metadata": {},
   "source": [
    "Above we have a whole set of cut-off energy scan results of collinear VASP calculation. Suppose that you want to develop spin-orientation scans on them all. You basically need to perform the previous operation on each of the folders. The following script serves as an example."
   ]
  },
  {
   "cell_type": "code",
   "execution_count": 16,
   "metadata": {},
   "outputs": [
    {
     "name": "stdout",
     "output_type": "stream",
     "text": [
      "\u001b[1m\u001b[36mmonolayer_CrI3_ecut=250_saxis=[0_0_1]\u001b[m\u001b[m \u001b[1m\u001b[36mmonolayer_CrI3_ecut=350_saxis=[1_0_0]\u001b[m\u001b[m\r\n",
      "\u001b[1m\u001b[36mmonolayer_CrI3_ecut=250_saxis=[1_0_0]\u001b[m\u001b[m \u001b[1m\u001b[36mmonolayer_CrI3_ecut=400_saxis=[0_0_1]\u001b[m\u001b[m\r\n",
      "\u001b[1m\u001b[36mmonolayer_CrI3_ecut=300_saxis=[0_0_1]\u001b[m\u001b[m \u001b[1m\u001b[36mmonolayer_CrI3_ecut=400_saxis=[1_0_0]\u001b[m\u001b[m\r\n",
      "\u001b[1m\u001b[36mmonolayer_CrI3_ecut=300_saxis=[1_0_0]\u001b[m\u001b[m submit_exhaustive.py\r\n",
      "\u001b[1m\u001b[36mmonolayer_CrI3_ecut=350_saxis=[0_0_1]\u001b[m\u001b[m\r\n"
     ]
    }
   ],
   "source": [
    "template_dir = os.path.join(PATHDICT['SMP_TEMPLATE'], 'ncl')\n",
    "\n",
    "oldset_dir = os.path.join(PATHDICT['SMP_INSTANCE'], 'set')\n",
    "newset_dir = os.path.join(PATHDICT['SMP_OUTPUT'], 'set_ncl')\n",
    "experiment.ToolKit.make_out_dir(newset_dir, overwrite=True)\n",
    "\n",
    "for old_name in os.listdir(oldset_dir):\n",
    "    old_path = os.path.join(oldset_dir, old_name)\n",
    "    if not os.path.isdir(old_path):\n",
    "        shutil.copy2(old_path, os.path.join(newset_dir, old_name))\n",
    "    else:\n",
    "        newset = experiment.SaxisScanFromSTD(\n",
    "            src_dir=old_path, new_dir=template_dir)\n",
    "        newset.make(\n",
    "            out_dir=newset_dir,\n",
    "            param_list=[(0,0,1), (1,0,0)], \n",
    "            incar_keeps=['ENCUT'],\n",
    "            header=old_name,\n",
    "            overwrite=False, \n",
    "            merge=True)\n",
    "        \n",
    "!ls ./sample/out/set_ncl"
   ]
  },
  {
   "cell_type": "markdown",
   "metadata": {},
   "source": [
    "Note the usage of `incar_keeps=['ENCUT']`. It keeps the cut-off energies untouched when replacing the template files. You may check the `INCAR` files to see this."
   ]
  },
  {
   "cell_type": "markdown",
   "metadata": {},
   "source": [
    "### Advanced usages\n",
    "\n",
    "The `vasp.py` and `slurm.py` provides more hacks on file parsing and template adjustment.\n",
    "\n",
    "We have a useful result parser, `vasp.VaspOUTCAR`, which has not yet been integrated to the higher-level workflow as listed above. This will be added to future work."
   ]
  }
 ],
 "metadata": {
  "kernelspec": {
   "display_name": "Python 3",
   "language": "python",
   "name": "python3"
  },
  "language_info": {
   "codemirror_mode": {
    "name": "ipython",
    "version": 3
   },
   "file_extension": ".py",
   "mimetype": "text/x-python",
   "name": "python",
   "nbconvert_exporter": "python",
   "pygments_lexer": "ipython3",
   "version": "3.6.1"
  }
 },
 "nbformat": 4,
 "nbformat_minor": 2
}
